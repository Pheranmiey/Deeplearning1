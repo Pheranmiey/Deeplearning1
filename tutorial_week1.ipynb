{
  "nbformat": 4,
  "nbformat_minor": 0,
  "metadata": {
    "colab": {
      "name": "tutorial_week1.ipynb",
      "provenance": [],
      "collapsed_sections": []
    },
    "kernelspec": {
      "name": "python3",
      "display_name": "Python 3"
    }
  },
  "cells": [
    {
      "cell_type": "code",
      "metadata": {
        "colab": {
          "base_uri": "https://localhost:8080/",
          "height": 37
        },
        "id": "NqJ90Vu_PNyA",
        "outputId": "6df0dc3e-30dd-44a5-aa50-b88516d64482"
      },
      "source": [
        "import tensorflow as tf\n",
        "tf.__version__"
      ],
      "execution_count": 18,
      "outputs": [
        {
          "output_type": "execute_result",
          "data": {
            "application/vnd.google.colaboratory.intrinsic+json": {
              "type": "string"
            },
            "text/plain": [
              "'2.3.0'"
            ]
          },
          "metadata": {
            "tags": []
          },
          "execution_count": 18
        }
      ]
    },
    {
      "cell_type": "code",
      "metadata": {
        "id": "xEOdCcfWRkg3"
      },
      "source": [
        "\n",
        "import numpy as np\n",
        "import sklearn as sk\n",
        "import seaborn as sns\n",
        "import tensorflow.compat.v1 as tf\n",
        "tf.disable_eager_execution()\n",
        "import pandas as pd\n",
        "import warnings\n",
        "warnings.filterwarnings('ignore')\n",
        "import os"
      ],
      "execution_count": 19,
      "outputs": []
    },
    {
      "cell_type": "code",
      "metadata": {
        "id": "LF2kgPcyR-87"
      },
      "source": [
        "a = tf.Variable(80, name = 'a')   \n",
        "b = tf.Variable(6, name = 'b')\n",
        "c = (a ** 1/b)\n",
        "\n",
        "with tf.Session() as sess:\n",
        "  init = tf.global_variables_initializer()\n",
        "  init.run()\n",
        "  result = c.eval()\n",
        "  "
      ],
      "execution_count": 20,
      "outputs": []
    },
    {
      "cell_type": "code",
      "metadata": {
        "colab": {
          "base_uri": "https://localhost:8080/"
        },
        "id": "KxEJsZBmTnrT",
        "outputId": "9d810e2e-ef64-4add-bd45-22ab292d1c56"
      },
      "source": [
        "result"
      ],
      "execution_count": 21,
      "outputs": [
        {
          "output_type": "execute_result",
          "data": {
            "text/plain": [
              "13.333333333333334"
            ]
          },
          "metadata": {
            "tags": []
          },
          "execution_count": 21
        }
      ]
    },
    {
      "cell_type": "markdown",
      "metadata": {
        "id": "ICT9TPggT8Pp"
      },
      "source": [
        "Creating a constant\n"
      ]
    },
    {
      "cell_type": "code",
      "metadata": {
        "colab": {
          "base_uri": "https://localhost:8080/"
        },
        "id": "b_5iSrUaUF4t",
        "outputId": "27391339-9da5-446f-f7ee-67d72fdf8f8a"
      },
      "source": [
        "a = tf.constant(989)\n",
        "b = a + 8767\n",
        "c = b - 978\n",
        "\n",
        "with tf.Session() as sess:\n",
        "    #init = tf.global_variables_initializer()\n",
        "    init.run()\n",
        "    d = c.eval()\n",
        "d    "
      ],
      "execution_count": 22,
      "outputs": [
        {
          "output_type": "execute_result",
          "data": {
            "text/plain": [
              "8778"
            ]
          },
          "metadata": {
            "tags": []
          },
          "execution_count": 22
        }
      ]
    },
    {
      "cell_type": "code",
      "metadata": {
        "id": "6-_I9iakUqcA"
      },
      "source": [
        ""
      ],
      "execution_count": 22,
      "outputs": []
    },
    {
      "cell_type": "markdown",
      "metadata": {
        "id": "0Mw_1CcdU0jH"
      },
      "source": [
        "Creating a Matrix"
      ]
    },
    {
      "cell_type": "code",
      "metadata": {
        "colab": {
          "base_uri": "https://localhost:8080/"
        },
        "id": "wA2DqZ6tUezc",
        "outputId": "2cdce2d5-4e1c-42c3-ad12-23ed661601eb"
      },
      "source": [
        "a = tf.ones((10,5))\n",
        "b = tf.zeros((5,10))\n",
        "c = tf.ones((10,10))\n",
        "\n",
        "y = tf.matmul(a,b) + c\n",
        "\n",
        "with tf.Session() as sess:\n",
        "    init = tf.global_variables_initializer()\n",
        "    init.run()\n",
        "    matrix = y.eval()\n",
        "    \n",
        "print(matrix)"
      ],
      "execution_count": 23,
      "outputs": [
        {
          "output_type": "stream",
          "text": [
            "[[1. 1. 1. 1. 1. 1. 1. 1. 1. 1.]\n",
            " [1. 1. 1. 1. 1. 1. 1. 1. 1. 1.]\n",
            " [1. 1. 1. 1. 1. 1. 1. 1. 1. 1.]\n",
            " [1. 1. 1. 1. 1. 1. 1. 1. 1. 1.]\n",
            " [1. 1. 1. 1. 1. 1. 1. 1. 1. 1.]\n",
            " [1. 1. 1. 1. 1. 1. 1. 1. 1. 1.]\n",
            " [1. 1. 1. 1. 1. 1. 1. 1. 1. 1.]\n",
            " [1. 1. 1. 1. 1. 1. 1. 1. 1. 1.]\n",
            " [1. 1. 1. 1. 1. 1. 1. 1. 1. 1.]\n",
            " [1. 1. 1. 1. 1. 1. 1. 1. 1. 1.]]\n"
          ],
          "name": "stdout"
        }
      ]
    },
    {
      "cell_type": "code",
      "metadata": {
        "id": "HA2h9MEDxMCw"
      },
      "source": [
        ""
      ],
      "execution_count": 23,
      "outputs": []
    },
    {
      "cell_type": "markdown",
      "metadata": {
        "id": "EceA28EsxOHx"
      },
      "source": [
        "Matrix determinant"
      ]
    },
    {
      "cell_type": "code",
      "metadata": {
        "colab": {
          "base_uri": "https://localhost:8080/"
        },
        "id": "aqe2u8hLxT9r",
        "outputId": "dc633ee3-e663-4b54-e712-14c3e30be86f"
      },
      "source": [
        "arr = np.array([[2.0,4.0,6.6],\r\n",
        "                [6.6,8.2,1.1],\r\n",
        "                [7.4,4.1,2.9]])\r\n",
        "det = tf.matrix_determinant(arr)\r\n",
        "with tf.Session() as sess:\r\n",
        "    out = det.eval()\r\n",
        "    print(out)"
      ],
      "execution_count": 24,
      "outputs": [
        {
          "output_type": "stream",
          "text": [
            "-227.352\n"
          ],
          "name": "stdout"
        }
      ]
    },
    {
      "cell_type": "code",
      "metadata": {
        "colab": {
          "base_uri": "https://localhost:8080/"
        },
        "id": "CWEghjAFylO7",
        "outputId": "f8b0f920-0145-4093-91e4-a8a741e2de59"
      },
      "source": [
        "# transpose\r\n",
        "trans = tf.matrix_transpose(arr)\r\n",
        "with tf.Session() as sess:\r\n",
        "    init = tf.global_variables_initializer()\r\n",
        "    init.run()\r\n",
        "    tran = trans.eval()\r\n",
        "    print(tran)"
      ],
      "execution_count": 25,
      "outputs": [
        {
          "output_type": "stream",
          "text": [
            "[[2.  6.6 7.4]\n",
            " [4.  8.2 4.1]\n",
            " [6.6 1.1 2.9]]\n"
          ],
          "name": "stdout"
        }
      ]
    },
    {
      "cell_type": "code",
      "metadata": {
        "colab": {
          "base_uri": "https://localhost:8080/"
        },
        "id": "gjrZHMXf2cdB",
        "outputId": "c7a0a4d1-4a82-4f1a-b200-e0c46060054c"
      },
      "source": [
        "# max args\r\n",
        "max = tf.argmax([3,4,18,7], name = 'max' )\r\n",
        "with tf.Session() as sess:\r\n",
        "    print(max.eval())"
      ],
      "execution_count": 26,
      "outputs": [
        {
          "output_type": "stream",
          "text": [
            "2\n"
          ],
          "name": "stdout"
        }
      ]
    },
    {
      "cell_type": "code",
      "metadata": {
        "colab": {
          "base_uri": "https://localhost:8080/"
        },
        "id": "OtZC94AS21Zo",
        "outputId": "c37c6c03-dbc9-4bd2-edab-d98ab62a50e0"
      },
      "source": [
        "# min args\r\n",
        "min = tf.argmin([3,4,18,7], name = 'min')\r\n",
        "with tf.Session() as sess:\r\n",
        "    print(min.eval())"
      ],
      "execution_count": 27,
      "outputs": [
        {
          "output_type": "stream",
          "text": [
            "0\n"
          ],
          "name": "stdout"
        }
      ]
    },
    {
      "cell_type": "code",
      "metadata": {
        "colab": {
          "base_uri": "https://localhost:8080/"
        },
        "id": "Hm0SP3X83Wf9",
        "outputId": "7edbe420-323a-4009-a49e-e191f5707192"
      },
      "source": [
        "# argmax according to axis\r\n",
        "\r\n",
        "arg = tf.argmax(arr, axis = 1)\r\n",
        "with tf.Session() as sess:\r\n",
        "    nit = tf.global_variables_initializer()\r\n",
        "    init.run()\r\n",
        "    print(arg.eval())"
      ],
      "execution_count": 29,
      "outputs": [
        {
          "output_type": "stream",
          "text": [
            "[2 1 0]\n"
          ],
          "name": "stdout"
        }
      ]
    },
    {
      "cell_type": "code",
      "metadata": {
        "colab": {
          "base_uri": "https://localhost:8080/"
        },
        "id": "FEnDlVns4Eia",
        "outputId": "938a853c-39a0-417e-b2f0-83b1ebcf19fe"
      },
      "source": [
        "# Arg sorting\r\n",
        "b = tf.argsort(arr,axis=1,direction='ASCENDING',name='b')\r\n",
        "c = tf.keras.backend.eval(b)\r\n",
        "print(c)"
      ],
      "execution_count": 30,
      "outputs": [
        {
          "output_type": "stream",
          "text": [
            "[[0 1 2]\n",
            " [2 0 1]\n",
            " [2 1 0]]\n"
          ],
          "name": "stdout"
        }
      ]
    },
    {
      "cell_type": "code",
      "metadata": {
        "colab": {
          "base_uri": "https://localhost:8080/"
        },
        "id": "72vKTQay4OQS",
        "outputId": "5ba93395-64a4-4930-fedb-5775133cbfe6"
      },
      "source": [
        "arr"
      ],
      "execution_count": 31,
      "outputs": [
        {
          "output_type": "execute_result",
          "data": {
            "text/plain": [
              "array([[2. , 4. , 6.6],\n",
              "       [6.6, 8.2, 1.1],\n",
              "       [7.4, 4.1, 2.9]])"
            ]
          },
          "metadata": {
            "tags": []
          },
          "execution_count": 31
        }
      ]
    },
    {
      "cell_type": "code",
      "metadata": {
        "colab": {
          "base_uri": "https://localhost:8080/"
        },
        "id": "OoALw2FV4o6v",
        "outputId": "d708f2e0-8c5c-4ff0-98a3-367ac22193c3"
      },
      "source": [
        "# confusion matrix\r\n",
        "a = tf.random_uniform((90,),minval = 0, maxval = 1)\r\n",
        "b = tf.random_uniform((90,), minval = 0, maxval =1)\r\n",
        "pred = tf.round(a, 'pred')\r\n",
        "y_true = tf.round(b,'y_true')\r\n",
        "confusion_mat = tf.confusion_matrix(pred, y_true, name = 'confusion_Matrix')\r\n",
        "with tf.Session() as sess:\r\n",
        "    init = tf.global_variables_initializer()\r\n",
        "    init.run()\r\n",
        "    print(confusion_mat.eval())"
      ],
      "execution_count": 32,
      "outputs": [
        {
          "output_type": "stream",
          "text": [
            "[[20 20]\n",
            " [22 28]]\n"
          ],
          "name": "stdout"
        }
      ]
    },
    {
      "cell_type": "code",
      "metadata": {
        "colab": {
          "base_uri": "https://localhost:8080/"
        },
        "id": "gWaVWO6r46JP",
        "outputId": "3f3b91c5-4850-49ca-b6bd-b58a07078019"
      },
      "source": [
        "# cast - casting a tensor to a new type\r\n",
        "x = tf.constant([1.8,2.2, 3.5,4.9], dtype = tf.float32)\r\n",
        "rea = tf.dtypes.cast(x, tf.int32)\r\n",
        "with tf.Session() as sess:\r\n",
        "    init = tf.global_variables_initializer()\r\n",
        "    init.run()\r\n",
        "    print(rea.eval())"
      ],
      "execution_count": 33,
      "outputs": [
        {
          "output_type": "stream",
          "text": [
            "[1 2 3 4]\n"
          ],
          "name": "stdout"
        }
      ]
    },
    {
      "cell_type": "code",
      "metadata": {
        "colab": {
          "base_uri": "https://localhost:8080/"
        },
        "id": "_Y8K8GpW5CO9",
        "outputId": "b75220d8-2220-4e40-8ae0-f2bc29478437"
      },
      "source": [
        "# cummulative sum\r\n",
        "cum_sum = tf.cumsum(x, axis = 0, name = 'cum_sum')\r\n",
        "with tf.Session() as sess:\r\n",
        "    init = tf.global_variables_initializer()\r\n",
        "    init.run()\r\n",
        "    print(cum_sum.eval())"
      ],
      "execution_count": 34,
      "outputs": [
        {
          "output_type": "stream",
          "text": [
            "[ 1.8  4.   7.5 12.4]\n"
          ],
          "name": "stdout"
        }
      ]
    },
    {
      "cell_type": "markdown",
      "metadata": {
        "id": "nVp5zRBJ5T_F"
      },
      "source": [
        "Place Holders"
      ]
    },
    {
      "cell_type": "code",
      "metadata": {
        "colab": {
          "base_uri": "https://localhost:8080/"
        },
        "id": "5QY92hp75Yu2",
        "outputId": "5d924099-23a5-452e-9e90-14a490ba020e"
      },
      "source": [
        "A = tf.placeholder(tf.float32, shape = (None,3))\r\n",
        "B = A + 5\r\n",
        "\r\n",
        "with tf.Session() as sess:\r\n",
        "    b_val = B.eval(feed_dict = {A:[[1,2,3]]})\r\n",
        "    b_val_u = B.eval(feed_dict = {A:[[4,5,6],[7,8,9]]})\r\n",
        "print(b_val)"
      ],
      "execution_count": 35,
      "outputs": [
        {
          "output_type": "stream",
          "text": [
            "[[6. 7. 8.]]\n"
          ],
          "name": "stdout"
        }
      ]
    },
    {
      "cell_type": "code",
      "metadata": {
        "colab": {
          "base_uri": "https://localhost:8080/"
        },
        "id": "6iRfqQfb5mD9",
        "outputId": "6243fca7-9095-415d-c312-9886e93c6095"
      },
      "source": [
        "print(b_val_u)"
      ],
      "execution_count": 36,
      "outputs": [
        {
          "output_type": "stream",
          "text": [
            "[[ 9. 10. 11.]\n",
            " [12. 13. 14.]]\n"
          ],
          "name": "stdout"
        }
      ]
    }
  ]
}